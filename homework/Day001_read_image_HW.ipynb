{
 "cells": [
  {
   "source": [
    "# 作業\n",
    "\n",
    "思考一下我們前面有提到圖片是矩陣，但維度可能會不一樣\n",
    "例如灰階圖只有兩個維度，RGB 彩圖則有 3 個維度\n",
    "\n",
    "假如今天我們把 RGB 3 個維度拆開來看會有甚麼不同的效果呢？"
   ],
   "cell_type": "markdown",
   "metadata": {}
  },
  {
   "source": [
    "import cv2\n",
    "import numpy as np"
   ],
   "cell_type": "code",
   "metadata": {},
   "execution_count": 56,
   "outputs": []
  },
  {
   "source": [
    "## 使用 imread 函式讀取圖片檔案"
   ],
   "cell_type": "markdown",
   "metadata": {}
  },
  {
   "cell_type": "code",
   "execution_count": 57,
   "metadata": {},
   "outputs": [
    {
     "output_type": "stream",
     "name": "stdout",
     "text": [
      "<class 'numpy.ndarray'>\n[[[125 137 226]\n  [125 137 226]\n  [133 137 223]\n  ...\n  [122 148 230]\n  [110 130 221]\n  [ 90  99 200]]\n\n [[125 137 226]\n  [125 137 226]\n  [133 137 223]\n  ...\n  [122 148 230]\n  [110 130 221]\n  [ 90  99 200]]\n\n [[125 137 226]\n  [125 137 226]\n  [133 137 223]\n  ...\n  [122 148 230]\n  [110 130 221]\n  [ 90  99 200]]\n\n ...\n\n [[ 60  18  84]\n  [ 60  18  84]\n  [ 58  27  92]\n  ...\n  [ 84  73 173]\n  [ 76  68 172]\n  [ 79  62 177]]\n\n [[ 57  22  82]\n  [ 57  22  82]\n  [ 62  32  96]\n  ...\n  [ 79  70 179]\n  [ 81  71 181]\n  [ 81  74 185]]\n\n [[ 57  22  82]\n  [ 57  22  82]\n  [ 62  32  96]\n  ...\n  [ 79  70 179]\n  [ 81  71 181]\n  [ 81  74 185]]]\n(512, 512, 3)\n"
     ]
    }
   ],
   "source": [
    "img = cv2.imread(\"pictures/lena.png\")\n",
    "print(type(img))\n",
    "print(img)\n",
    "print(img.shape)"
   ]
  },
  {
   "source": [
    "## 使用不同格式載入圖片\n",
    "<pre><code>\n",
    "cv2.IMREAD_COLOR # 彩色\n",
    "cv2.IMREAD_GRAYSCALE   # 灰階\n",
    "</code></pre>"
   ],
   "cell_type": "markdown",
   "metadata": {}
  },
  {
   "cell_type": "code",
   "execution_count": 58,
   "metadata": {},
   "outputs": [
    {
     "output_type": "stream",
     "name": "stdout",
     "text": [
      "[[[125 137 226]\n  [125 137 226]\n  [133 137 223]\n  ...\n  [122 148 230]\n  [110 130 221]\n  [ 90  99 200]]\n\n [[125 137 226]\n  [125 137 226]\n  [133 137 223]\n  ...\n  [122 148 230]\n  [110 130 221]\n  [ 90  99 200]]\n\n [[125 137 226]\n  [125 137 226]\n  [133 137 223]\n  ...\n  [122 148 230]\n  [110 130 221]\n  [ 90  99 200]]\n\n ...\n\n [[ 60  18  84]\n  [ 60  18  84]\n  [ 58  27  92]\n  ...\n  [ 84  73 173]\n  [ 76  68 172]\n  [ 79  62 177]]\n\n [[ 57  22  82]\n  [ 57  22  82]\n  [ 62  32  96]\n  ...\n  [ 79  70 179]\n  [ 81  71 181]\n  [ 81  74 185]]\n\n [[ 57  22  82]\n  [ 57  22  82]\n  [ 62  32  96]\n  ...\n  [ 79  70 179]\n  [ 81  71 181]\n  [ 81  74 185]]]\n"
     ]
    }
   ],
   "source": [
    "img_RGB = cv2.imread(\"pictures/lena.png\", cv2.IMREAD_COLOR) # 彩色\n",
    "img_GRAYSCALE = cv2.imread(\"pictures/lena.png\", cv2.IMREAD_GRAYSCALE) # 灰階\n",
    "print(img_RGB)"
   ]
  },
  {
   "source": [
    "## 使用 numpy 分離RGB三色channel\n",
    "opencv img 圖像為 (512,512,3) 維圖像，分別代表 (row, column, channel) 值\n",
    "其中channel中每個像素(pixel)的順序為\\[B, G, R\\]\n",
    "\n",
    "Ref: https://opencv-python-tutroals.readthedocs.io/en/latest/py_tutorials/py_core/py_basic_ops/py_basic_ops.html#basic-ops\n"
   ],
   "cell_type": "code",
   "metadata": {},
   "execution_count": null,
   "outputs": []
  },
  {
   "source": [
    "img_B = img_RGB[:, :, 0]\n",
    "img_G = img_RGB[:, :, 1]\n",
    "img_R = img_RGB[:, :, 2]\n",
    "B = np.zeros((512, 512, 3), dtype=np.uint8)\n",
    "G = np.zeros((512, 512, 3), dtype=np.uint8)\n",
    "R = np.zeros((512, 512, 3), dtype=np.uint8)\n",
    "B[:,:,0] = img_B\n",
    "G[:,:,1] = img_B\n",
    "R[:,:,2] = img_B\n",
    "print(img_B)\n",
    "print(B)"
   ],
   "cell_type": "code",
   "metadata": {},
   "execution_count": 59,
   "outputs": [
    {
     "output_type": "stream",
     "name": "stdout",
     "text": [
      "[[125 125 133 ... 122 110  90]\n [125 125 133 ... 122 110  90]\n [125 125 133 ... 122 110  90]\n ...\n [ 60  60  58 ...  84  76  79]\n [ 57  57  62 ...  79  81  81]\n [ 57  57  62 ...  79  81  81]]\n[[[125   0   0]\n  [125   0   0]\n  [133   0   0]\n  ...\n  [122   0   0]\n  [110   0   0]\n  [ 90   0   0]]\n\n [[125   0   0]\n  [125   0   0]\n  [133   0   0]\n  ...\n  [122   0   0]\n  [110   0   0]\n  [ 90   0   0]]\n\n [[125   0   0]\n  [125   0   0]\n  [133   0   0]\n  ...\n  [122   0   0]\n  [110   0   0]\n  [ 90   0   0]]\n\n ...\n\n [[ 60   0   0]\n  [ 60   0   0]\n  [ 58   0   0]\n  ...\n  [ 84   0   0]\n  [ 76   0   0]\n  [ 79   0   0]]\n\n [[ 57   0   0]\n  [ 57   0   0]\n  [ 62   0   0]\n  ...\n  [ 79   0   0]\n  [ 81   0   0]\n  [ 81   0   0]]\n\n [[ 57   0   0]\n  [ 57   0   0]\n  [ 62   0   0]\n  ...\n  [ 79   0   0]\n  [ 81   0   0]\n  [ 81   0   0]]]\n"
     ]
    }
   ]
  },
  {
   "source": [
    "## 使用 imshow 顯示圖片"
   ],
   "cell_type": "markdown",
   "metadata": {}
  },
  {
   "cell_type": "code",
   "execution_count": 60,
   "metadata": {},
   "outputs": [],
   "source": [
    "cv2.imshow(\"RGB\", img_RGB)\n",
    "cv2.imshow(\"GRAYSCALE\", img_GRAYSCALE)\n",
    "cv2.imshow(\"img_R\", B)\n",
    "cv2.imshow(\"img_G\", G)\n",
    "cv2.imshow(\"img_B\", R)\n",
    "k = cv2.waitKey(0)\n",
    "if k == 27:\n",
    "    cv2.destroyAllWindows()"
   ]
  }
 ],
 "metadata": {
  "kernelspec": {
   "display_name": "OpenCV_ENV",
   "language": "python",
   "name": "opencv_env"
  },
  "language_info": {
   "codemirror_mode": {
    "name": "ipython",
    "version": 3
   },
   "file_extension": ".py",
   "mimetype": "text/x-python",
   "name": "python",
   "nbconvert_exporter": "python",
   "pygments_lexer": "ipython3",
   "version": "3.8.5-final"
  }
 },
 "nbformat": 4,
 "nbformat_minor": 2
}