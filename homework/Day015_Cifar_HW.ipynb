{
 "cells": [
  {
   "source": [
    "## 『本次練習內容』\n",
    "#### 運用這幾天所學觀念搭建一個CNN分類器\n",
    "\n",
    "## DataSet 資料集\n",
    "https://www.cs.toronto.edu/~kriz/cifar.html\n",
    "\n",
    "## Reference\n",
    "\n",
    "https://keras-zh.readthedocs.io/models/sequential/#sequential-api"
   ],
   "cell_type": "markdown",
   "metadata": {}
  },
  {
   "cell_type": "markdown",
   "metadata": {},
   "source": [
    "## 『本次練習目的』\n",
    "  #### 熟悉CNN分類器搭建步驟與原理\n",
    "  #### 學員們可以嘗試不同搭法，如使用不同的Maxpooling層，用GlobalAveragePooling取代Flatten等等"
   ]
  },
  {
   "cell_type": "code",
   "execution_count": 24,
   "metadata": {},
   "outputs": [],
   "source": [
    "from keras.models import Sequential\n",
    "from keras.layers import Convolution2D\n",
    "from keras.layers import MaxPooling2D\n",
    "from keras.layers import Flatten\n",
    "from keras.layers import Dense\n",
    "from keras.layers import Dropout\n",
    "from keras.layers import BatchNormalization\n",
    "from keras.datasets import cifar10\n",
    "import numpy as np\n",
    "import tensorflow as tf\n",
    "from sklearn.preprocessing import OneHotEncoder\n"
   ]
  },
  {
   "cell_type": "code",
   "execution_count": 25,
   "metadata": {},
   "outputs": [
    {
     "output_type": "stream",
     "name": "stdout",
     "text": [
      "(50000, 32, 32, 3)\n"
     ]
    }
   ],
   "source": [
    "(x_train, y_train), (x_test, y_test) = cifar10.load_data()\n",
    "\n",
    "print(x_train.shape) #(50000, 32, 32, 3)\n",
    "\n",
    "## Normalize Data\n",
    "def normalize(X_train,X_test):\n",
    "        mean = np.mean(X_train,axis=(0,1,2,3))\n",
    "        std = np.std(X_train, axis=(0, 1, 2, 3))\n",
    "        X_train = (X_train-mean)/(std+1e-7)\n",
    "        X_test = (X_test-mean)/(std+1e-7) \n",
    "        return X_train, X_test,mean,std\n",
    "    \n",
    "    \n",
    "## Normalize Training and Testset    \n",
    "x_train, x_test,mean_train,std_train = normalize(x_train, x_test) "
   ]
  },
  {
   "source": [
    "## One hot encoding\n",
    "\n",
    "原始資料是有序離散值的話 => Label Encoding\n",
    "\n",
    "原始資料是無序離散值的話 => One Hot Encoding (Dummies)\n",
    "\n",
    "Ref: https://medium.com/@PatHuang/%E5%88%9D%E5%AD%B8python%E6%89%8B%E8%A8%98-3-%E8%B3%87%E6%96%99%E5%89%8D%E8%99%95%E7%90%86-label-encoding-one-hot-encoding-85c983d63f87\n",
    "\n"
   ],
   "cell_type": "markdown",
   "metadata": {}
  },
  {
   "cell_type": "code",
   "execution_count": 26,
   "metadata": {},
   "outputs": [
    {
     "output_type": "stream",
     "name": "stdout",
     "text": [
      "Before one hot encoding:\n",
      "(50000, 1)\n",
      "[[6]\n",
      " [9]\n",
      " [9]\n",
      " ...\n",
      " [9]\n",
      " [1]\n",
      " [1]]\n",
      "After one hot encoding:\n",
      "(50000, 10)\n",
      "[[0. 0. 0. ... 0. 0. 0.]\n",
      " [0. 0. 0. ... 0. 0. 1.]\n",
      " [0. 0. 0. ... 0. 0. 1.]\n",
      " ...\n",
      " [0. 0. 0. ... 0. 0. 1.]\n",
      " [0. 1. 0. ... 0. 0. 0.]\n",
      " [0. 1. 0. ... 0. 0. 0.]]\n"
     ]
    }
   ],
   "source": [
    "## OneHot Label 由(None, 1)-(None, 10)\n",
    "## ex. label=2,變成[0,0,1,0,0,0,0,0,0,0]\n",
    "print(\"Before one hot encoding:\")\n",
    "print(y_train.shape)\n",
    "print(y_train)\n",
    "one_hot=OneHotEncoder()\n",
    "y_train=one_hot.fit_transform(y_train).toarray()\n",
    "y_test=one_hot.transform(y_test).toarray()\n",
    "print(\"After one hot encoding:\")\n",
    "print(y_train.shape)\n",
    "print(y_train)"
   ]
  },
  {
   "cell_type": "code",
   "execution_count": 27,
   "metadata": {},
   "outputs": [
    {
     "output_type": "stream",
     "name": "stdout",
     "text": [
      "Epoch 1/100\n",
      "50/50 [==============================] - 120s 2s/step - loss: 1.6581 - accuracy: 0.4306\n",
      "Epoch 2/100\n",
      "50/50 [==============================] - 117s 2s/step - loss: 1.1571 - accuracy: 0.5899\n",
      "Epoch 3/100\n",
      "50/50 [==============================] - 112s 2s/step - loss: 0.9514 - accuracy: 0.6677\n",
      "Epoch 4/100\n",
      "50/50 [==============================] - 136s 3s/step - loss: 0.8022 - accuracy: 0.7237\n",
      "Epoch 5/100\n",
      "50/50 [==============================] - 137s 3s/step - loss: 0.6584 - accuracy: 0.7736\n",
      "Epoch 6/100\n",
      "50/50 [==============================] - 135s 3s/step - loss: 0.5409 - accuracy: 0.8170\n",
      "Epoch 7/100\n",
      "50/50 [==============================] - 134s 3s/step - loss: 0.4235 - accuracy: 0.8619\n",
      "Epoch 8/100\n",
      "50/50 [==============================] - 138s 3s/step - loss: 0.3158 - accuracy: 0.9037\n",
      "Epoch 9/100\n",
      "50/50 [==============================] - 126s 3s/step - loss: 0.2200 - accuracy: 0.9408\n",
      "Epoch 10/100\n",
      "50/50 [==============================] - 109s 2s/step - loss: 0.1428 - accuracy: 0.9688\n",
      "Epoch 11/100\n",
      "50/50 [==============================] - 75s 2s/step - loss: 0.0886 - accuracy: 0.9868\n",
      "Epoch 12/100\n",
      "50/50 [==============================] - 69s 1s/step - loss: 0.0514 - accuracy: 0.9962\n",
      "Epoch 13/100\n",
      "50/50 [==============================] - 81s 2s/step - loss: 0.0295 - accuracy: 0.9992\n",
      "Epoch 14/100\n",
      "50/50 [==============================] - 74s 1s/step - loss: 0.0186 - accuracy: 0.9997\n",
      "Epoch 15/100\n",
      "50/50 [==============================] - 99s 2s/step - loss: 0.0132 - accuracy: 0.9999\n",
      "Epoch 16/100\n",
      "50/50 [==============================] - 91s 2s/step - loss: 0.0098 - accuracy: 1.0000\n",
      "Epoch 17/100\n",
      "50/50 [==============================] - 94s 2s/step - loss: 0.0077 - accuracy: 1.0000\n",
      "Epoch 18/100\n",
      "50/50 [==============================] - 84s 2s/step - loss: 0.0063 - accuracy: 1.0000\n",
      "Epoch 19/100\n",
      "50/50 [==============================] - 87s 2s/step - loss: 0.0053 - accuracy: 1.0000\n",
      "Epoch 20/100\n",
      "50/50 [==============================] - 81s 2s/step - loss: 0.0046 - accuracy: 1.0000\n",
      "Epoch 21/100\n",
      "50/50 [==============================] - 82s 2s/step - loss: 0.0040 - accuracy: 1.0000\n",
      "Epoch 22/100\n",
      "50/50 [==============================] - 96s 2s/step - loss: 0.0035 - accuracy: 1.0000\n",
      "Epoch 23/100\n",
      "50/50 [==============================] - 95s 2s/step - loss: 0.0031 - accuracy: 1.0000\n",
      "Epoch 24/100\n",
      "50/50 [==============================] - 91s 2s/step - loss: 0.0027 - accuracy: 1.0000\n",
      "Epoch 25/100\n",
      "50/50 [==============================] - 93s 2s/step - loss: 0.0025 - accuracy: 1.0000\n",
      "Epoch 26/100\n",
      "50/50 [==============================] - 85s 2s/step - loss: 0.0022 - accuracy: 1.0000\n",
      "Epoch 27/100\n",
      "50/50 [==============================] - 91s 2s/step - loss: 0.0020 - accuracy: 1.0000\n",
      "Epoch 28/100\n",
      "50/50 [==============================] - 92s 2s/step - loss: 0.0018 - accuracy: 1.0000\n",
      "Epoch 29/100\n",
      "50/50 [==============================] - 91s 2s/step - loss: 0.0017 - accuracy: 1.0000\n",
      "Epoch 30/100\n",
      "50/50 [==============================] - 92s 2s/step - loss: 0.0015 - accuracy: 1.0000\n",
      "Epoch 31/100\n",
      "50/50 [==============================] - 90s 2s/step - loss: 0.0014 - accuracy: 1.0000\n",
      "Epoch 32/100\n",
      "50/50 [==============================] - 95s 2s/step - loss: 0.0013 - accuracy: 1.0000\n",
      "Epoch 33/100\n",
      "50/50 [==============================] - 91s 2s/step - loss: 0.0012 - accuracy: 1.0000\n",
      "Epoch 34/100\n",
      "50/50 [==============================] - 93s 2s/step - loss: 0.0011 - accuracy: 1.0000\n",
      "Epoch 35/100\n",
      "50/50 [==============================] - 88s 2s/step - loss: 0.0011 - accuracy: 1.0000\n",
      "Epoch 36/100\n",
      "50/50 [==============================] - 73s 1s/step - loss: 9.8593e-04 - accuracy: 1.0000\n",
      "Epoch 37/100\n",
      "50/50 [==============================] - 72s 1s/step - loss: 9.1005e-04 - accuracy: 1.0000\n",
      "Epoch 38/100\n",
      "50/50 [==============================] - 88s 2s/step - loss: 8.5684e-04 - accuracy: 1.0000\n",
      "Epoch 39/100\n",
      "50/50 [==============================] - 89s 2s/step - loss: 8.0325e-04 - accuracy: 1.0000\n",
      "Epoch 40/100\n",
      "50/50 [==============================] - 77s 2s/step - loss: 7.5722e-04 - accuracy: 1.0000\n",
      "Epoch 41/100\n",
      "50/50 [==============================] - 72s 1s/step - loss: 7.1388e-04 - accuracy: 1.0000\n",
      "Epoch 42/100\n",
      "50/50 [==============================] - 72s 1s/step - loss: 6.6767e-04 - accuracy: 1.0000\n",
      "Epoch 43/100\n",
      "50/50 [==============================] - 74s 1s/step - loss: 6.3134e-04 - accuracy: 1.0000\n",
      "Epoch 44/100\n",
      "50/50 [==============================] - 72s 1s/step - loss: 5.9392e-04 - accuracy: 1.0000\n",
      "Epoch 45/100\n",
      "50/50 [==============================] - 72s 1s/step - loss: 5.6210e-04 - accuracy: 1.0000\n",
      "Epoch 46/100\n",
      "50/50 [==============================] - 71s 1s/step - loss: 5.3241e-04 - accuracy: 1.0000\n",
      "Epoch 47/100\n",
      "50/50 [==============================] - 73s 1s/step - loss: 5.0431e-04 - accuracy: 1.0000\n",
      "Epoch 48/100\n",
      "50/50 [==============================] - 71s 1s/step - loss: 4.7603e-04 - accuracy: 1.0000\n",
      "Epoch 49/100\n",
      "50/50 [==============================] - 71s 1s/step - loss: 4.5044e-04 - accuracy: 1.0000\n",
      "Epoch 50/100\n",
      "50/50 [==============================] - 71s 1s/step - loss: 4.3234e-04 - accuracy: 1.0000\n",
      "Epoch 51/100\n",
      "50/50 [==============================] - 72s 1s/step - loss: 4.0964e-04 - accuracy: 1.0000\n",
      "Epoch 52/100\n",
      "50/50 [==============================] - 73s 1s/step - loss: 3.8694e-04 - accuracy: 1.0000\n",
      "Epoch 53/100\n",
      "50/50 [==============================] - 73s 1s/step - loss: 3.6875e-04 - accuracy: 1.0000\n",
      "Epoch 54/100\n",
      "50/50 [==============================] - 72s 1s/step - loss: 3.5144e-04 - accuracy: 1.0000\n",
      "Epoch 55/100\n",
      "50/50 [==============================] - 71s 1s/step - loss: 3.3348e-04 - accuracy: 1.0000\n",
      "Epoch 56/100\n",
      "50/50 [==============================] - 72s 1s/step - loss: 3.1888e-04 - accuracy: 1.0000\n",
      "Epoch 57/100\n",
      "50/50 [==============================] - 73s 1s/step - loss: 3.0457e-04 - accuracy: 1.0000\n",
      "Epoch 58/100\n",
      "50/50 [==============================] - 72s 1s/step - loss: 2.9064e-04 - accuracy: 1.0000\n",
      "Epoch 59/100\n",
      "50/50 [==============================] - 73s 1s/step - loss: 2.7890e-04 - accuracy: 1.0000\n",
      "Epoch 60/100\n",
      "50/50 [==============================] - 71s 1s/step - loss: 2.6530e-04 - accuracy: 1.0000\n",
      "Epoch 61/100\n",
      "50/50 [==============================] - 73s 1s/step - loss: 2.5560e-04 - accuracy: 1.0000\n",
      "Epoch 62/100\n",
      "50/50 [==============================] - 72s 1s/step - loss: 2.4425e-04 - accuracy: 1.0000\n",
      "Epoch 63/100\n",
      "50/50 [==============================] - 71s 1s/step - loss: 2.3381e-04 - accuracy: 1.0000\n",
      "Epoch 64/100\n",
      "50/50 [==============================] - 72s 1s/step - loss: 2.2366e-04 - accuracy: 1.0000\n",
      "Epoch 65/100\n",
      "50/50 [==============================] - 72s 1s/step - loss: 2.1128e-04 - accuracy: 1.0000\n",
      "Epoch 66/100\n",
      "50/50 [==============================] - 72s 1s/step - loss: 2.0534e-04 - accuracy: 1.0000\n",
      "Epoch 67/100\n",
      "50/50 [==============================] - 72s 1s/step - loss: 1.9746e-04 - accuracy: 1.0000\n",
      "Epoch 68/100\n",
      "50/50 [==============================] - 72s 1s/step - loss: 1.8865e-04 - accuracy: 1.0000\n",
      "Epoch 69/100\n",
      "50/50 [==============================] - 72s 1s/step - loss: 1.8227e-04 - accuracy: 1.0000\n",
      "Epoch 70/100\n",
      "50/50 [==============================] - 71s 1s/step - loss: 1.7435e-04 - accuracy: 1.0000\n",
      "Epoch 71/100\n",
      "50/50 [==============================] - 74s 1s/step - loss: 1.6737e-04 - accuracy: 1.0000\n",
      "Epoch 72/100\n",
      "50/50 [==============================] - 72s 1s/step - loss: 1.6107e-04 - accuracy: 1.0000\n",
      "Epoch 73/100\n",
      "50/50 [==============================] - 71s 1s/step - loss: 1.5464e-04 - accuracy: 1.0000\n",
      "Epoch 74/100\n",
      "50/50 [==============================] - 72s 1s/step - loss: 1.4835e-04 - accuracy: 1.0000\n",
      "Epoch 75/100\n",
      "50/50 [==============================] - 71s 1s/step - loss: 1.4281e-04 - accuracy: 1.0000\n",
      "Epoch 76/100\n",
      "50/50 [==============================] - 73s 1s/step - loss: 1.3723e-04 - accuracy: 1.0000\n",
      "Epoch 77/100\n",
      "50/50 [==============================] - 73s 1s/step - loss: 1.3145e-04 - accuracy: 1.0000\n",
      "Epoch 78/100\n",
      "50/50 [==============================] - 71s 1s/step - loss: 1.2695e-04 - accuracy: 1.0000\n",
      "Epoch 79/100\n",
      "50/50 [==============================] - 74s 1s/step - loss: 1.2134e-04 - accuracy: 1.0000\n",
      "Epoch 80/100\n",
      "50/50 [==============================] - 72s 1s/step - loss: 1.1679e-04 - accuracy: 1.0000\n",
      "Epoch 81/100\n",
      "50/50 [==============================] - 72s 1s/step - loss: 1.1302e-04 - accuracy: 1.0000\n",
      "Epoch 82/100\n",
      "50/50 [==============================] - 72s 1s/step - loss: 1.0907e-04 - accuracy: 1.0000\n",
      "Epoch 83/100\n",
      "50/50 [==============================] - 75s 2s/step - loss: 1.0536e-04 - accuracy: 1.0000\n",
      "Epoch 84/100\n",
      "50/50 [==============================] - 71s 1s/step - loss: 1.0161e-04 - accuracy: 1.0000\n",
      "Epoch 85/100\n",
      "50/50 [==============================] - 72s 1s/step - loss: 9.9386e-05 - accuracy: 1.0000\n",
      "Epoch 86/100\n",
      "50/50 [==============================] - 71s 1s/step - loss: 9.4897e-05 - accuracy: 1.0000\n",
      "Epoch 87/100\n",
      "50/50 [==============================] - 73s 1s/step - loss: 9.0475e-05 - accuracy: 1.0000\n",
      "Epoch 88/100\n",
      "50/50 [==============================] - 72s 1s/step - loss: 8.8420e-05 - accuracy: 1.0000\n",
      "Epoch 89/100\n",
      "50/50 [==============================] - 71s 1s/step - loss: 8.4385e-05 - accuracy: 1.0000\n",
      "Epoch 90/100\n",
      "50/50 [==============================] - 76s 2s/step - loss: 8.1740e-05 - accuracy: 1.0000\n",
      "Epoch 91/100\n",
      "50/50 [==============================] - 72s 1s/step - loss: 7.9067e-05 - accuracy: 1.0000\n",
      "Epoch 92/100\n",
      "50/50 [==============================] - 72s 1s/step - loss: 7.6407e-05 - accuracy: 1.0000\n",
      "Epoch 93/100\n",
      "50/50 [==============================] - 71s 1s/step - loss: 7.4578e-05 - accuracy: 1.0000\n",
      "Epoch 94/100\n",
      "50/50 [==============================] - 72s 1s/step - loss: 7.0655e-05 - accuracy: 1.0000\n",
      "Epoch 95/100\n",
      "50/50 [==============================] - 72s 1s/step - loss: 6.8977e-05 - accuracy: 1.0000\n",
      "Epoch 96/100\n",
      "50/50 [==============================] - 75s 2s/step - loss: 6.6321e-05 - accuracy: 1.0000\n",
      "Epoch 97/100\n",
      "50/50 [==============================] - 75s 1s/step - loss: 6.3881e-05 - accuracy: 1.0000\n",
      "Epoch 98/100\n",
      "50/50 [==============================] - 75s 2s/step - loss: 6.2209e-05 - accuracy: 1.0000\n",
      "Epoch 99/100\n",
      "50/50 [==============================] - 75s 1s/step - loss: 5.9732e-05 - accuracy: 1.0000\n",
      "Epoch 100/100\n",
      "50/50 [==============================] - 75s 2s/step - loss: 5.8791e-05 - accuracy: 1.0000\n"
     ]
    },
    {
     "output_type": "execute_result",
     "data": {
      "text/plain": [
       "<tensorflow.python.keras.callbacks.History at 0x20f418134c0>"
      ]
     },
     "metadata": {},
     "execution_count": 27
    }
   ],
   "source": [
    "\n",
    "classifier=Sequential()\n",
    "\n",
    "#卷積組合\n",
    "classifier.add(Convolution2D(32, kernel_size=(3,3), input_shape=(32,32,3),activation='relu'))#32,3,3,input_shape=(32,32,3),activation='relu''\n",
    "classifier.add(BatchNormalization())\n",
    "\n",
    "\n",
    "#卷積組合\n",
    "classifier.add(Convolution2D(32, kernel_size=(3,3), input_shape=(32,32,3),activation='relu'))\n",
    "classifier.add(BatchNormalization())\n",
    "\n",
    "'''自己決定MaxPooling2D放在哪裡'''\n",
    "classifier.add(MaxPooling2D(pool_size=(2,2)))\n",
    "\n",
    "#flatten\n",
    "classifier.add(Flatten())\n",
    "\n",
    "#FC\n",
    "classifier.add(Dense(100,activation='relu')) #output_dim=100,activation=relu\n",
    "\n",
    "#輸出\n",
    "classifier.add(Dense(10,activation='softmax'))\n",
    "\n",
    "#超過兩個就要選categorical_crossentrophy\n",
    "classifier.compile(optimizer = 'adam', loss = 'categorical_crossentropy', metrics = ['accuracy'])\n",
    "classifier.fit(x_train,y_train,batch_size=1000,epochs=100)"
   ]
  },
  {
   "cell_type": "code",
   "execution_count": null,
   "metadata": {},
   "outputs": [],
   "source": []
  },
  {
   "cell_type": "markdown",
   "metadata": {},
   "source": [
    "## 預測新圖片，輸入影像前處理要與訓練時相同\n",
    "#### ((X-mean)/(std+1e-7) ):這裡的mean跟std是訓練集的\n",
    "## 維度如下方示範"
   ]
  },
  {
   "cell_type": "code",
   "execution_count": 97,
   "metadata": {},
   "outputs": [
    {
     "output_type": "stream",
     "name": "stdout",
     "text": [
      "[  0. 100.   0.   0.   0.   0.   0.   0.   0.   0.]\n"
     ]
    },
    {
     "output_type": "execute_result",
     "data": {
      "text/plain": [
       "              預測結果\n",
       "airplane     0.00%\n",
       "automobile 100.00%\n",
       "bird         0.00%\n",
       "cat          0.00%\n",
       "deer         0.00%\n",
       "dog          0.00%\n",
       "frog         0.00%\n",
       "horse        0.00%\n",
       "ship         0.00%\n",
       "truck        0.00%"
      ],
      "text/html": "<div>\n<style scoped>\n    .dataframe tbody tr th:only-of-type {\n        vertical-align: middle;\n    }\n\n    .dataframe tbody tr th {\n        vertical-align: top;\n    }\n\n    .dataframe thead th {\n        text-align: right;\n    }\n</style>\n<table border=\"1\" class=\"dataframe\">\n  <thead>\n    <tr style=\"text-align: right;\">\n      <th></th>\n      <th>預測結果</th>\n    </tr>\n  </thead>\n  <tbody>\n    <tr>\n      <th>airplane</th>\n      <td>0.00%</td>\n    </tr>\n    <tr>\n      <th>automobile</th>\n      <td>100.00%</td>\n    </tr>\n    <tr>\n      <th>bird</th>\n      <td>0.00%</td>\n    </tr>\n    <tr>\n      <th>cat</th>\n      <td>0.00%</td>\n    </tr>\n    <tr>\n      <th>deer</th>\n      <td>0.00%</td>\n    </tr>\n    <tr>\n      <th>dog</th>\n      <td>0.00%</td>\n    </tr>\n    <tr>\n      <th>frog</th>\n      <td>0.00%</td>\n    </tr>\n    <tr>\n      <th>horse</th>\n      <td>0.00%</td>\n    </tr>\n    <tr>\n      <th>ship</th>\n      <td>0.00%</td>\n    </tr>\n    <tr>\n      <th>truck</th>\n      <td>0.00%</td>\n    </tr>\n  </tbody>\n</table>\n</div>"
     },
     "metadata": {},
     "execution_count": 97
    },
    {
     "output_type": "display_data",
     "data": {
      "text/plain": "<Figure size 432x288 with 1 Axes>",
      "image/svg+xml": "<?xml version=\"1.0\" encoding=\"utf-8\" standalone=\"no\"?>\r\n<!DOCTYPE svg PUBLIC \"-//W3C//DTD SVG 1.1//EN\"\r\n  \"http://www.w3.org/Graphics/SVG/1.1/DTD/svg11.dtd\">\r\n<!-- Created with matplotlib (https://matplotlib.org/) -->\r\n<svg height=\"248.919844pt\" version=\"1.1\" viewBox=\"0 0 251.565 248.919844\" width=\"251.565pt\" xmlns=\"http://www.w3.org/2000/svg\" xmlns:xlink=\"http://www.w3.org/1999/xlink\">\r\n <metadata>\r\n  <rdf:RDF xmlns:cc=\"http://creativecommons.org/ns#\" xmlns:dc=\"http://purl.org/dc/elements/1.1/\" xmlns:rdf=\"http://www.w3.org/1999/02/22-rdf-syntax-ns#\">\r\n   <cc:Work>\r\n    <dc:type rdf:resource=\"http://purl.org/dc/dcmitype/StillImage\"/>\r\n    <dc:date>2021-07-15T02:15:02.072942</dc:date>\r\n    <dc:format>image/svg+xml</dc:format>\r\n    <dc:creator>\r\n     <cc:Agent>\r\n      <dc:title>Matplotlib v3.3.4, https://matplotlib.org/</dc:title>\r\n     </cc:Agent>\r\n    </dc:creator>\r\n   </cc:Work>\r\n  </rdf:RDF>\r\n </metadata>\r\n <defs>\r\n  <style type=\"text/css\">*{stroke-linecap:butt;stroke-linejoin:round;}</style>\r\n </defs>\r\n <g id=\"figure_1\">\r\n  <g id=\"patch_1\">\r\n   <path d=\"M 0 248.919844 \r\nL 251.565 248.919844 \r\nL 251.565 0 \r\nL 0 0 \r\nz\r\n\" style=\"fill:none;\"/>\r\n  </g>\r\n  <g id=\"axes_1\">\r\n   <g id=\"patch_2\">\r\n    <path d=\"M 26.925 225.041719 \r\nL 244.365 225.041719 \r\nL 244.365 7.601719 \r\nL 26.925 7.601719 \r\nz\r\n\" style=\"fill:#ffffff;\"/>\r\n   </g>\r\n   <g clip-path=\"url(#p0a041cfaac)\">\r\n    <image height=\"218\" id=\"imagefa23e47853\" transform=\"scale(1 -1)translate(0 -218)\" width=\"218\" x=\"26.925\" xlink:href=\"data:image/png;base64,\r\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\" y=\"-7.041719\"/>\r\n   </g>\r\n   <g id=\"matplotlib.axis_1\">\r\n    <g id=\"xtick_1\">\r\n     <g id=\"line2d_1\">\r\n      <defs>\r\n       <path d=\"M 0 0 \r\nL 0 3.5 \r\n\" id=\"md1bbae7570\" style=\"stroke:#000000;stroke-width:0.8;\"/>\r\n      </defs>\r\n      <g>\r\n       <use style=\"stroke:#000000;stroke-width:0.8;\" x=\"30.3225\" xlink:href=\"#md1bbae7570\" y=\"225.041719\"/>\r\n      </g>\r\n     </g>\r\n     <g id=\"text_1\">\r\n      <!-- 0 -->\r\n      <g transform=\"translate(27.14125 239.640156)scale(0.1 -0.1)\">\r\n       <defs>\r\n        <path d=\"M 31.78125 66.40625 \r\nQ 24.171875 66.40625 20.328125 58.90625 \r\nQ 16.5 51.421875 16.5 36.375 \r\nQ 16.5 21.390625 20.328125 13.890625 \r\nQ 24.171875 6.390625 31.78125 6.390625 \r\nQ 39.453125 6.390625 43.28125 13.890625 \r\nQ 47.125 21.390625 47.125 36.375 \r\nQ 47.125 51.421875 43.28125 58.90625 \r\nQ 39.453125 66.40625 31.78125 66.40625 \r\nz\r\nM 31.78125 74.21875 \r\nQ 44.046875 74.21875 50.515625 64.515625 \r\nQ 56.984375 54.828125 56.984375 36.375 \r\nQ 56.984375 17.96875 50.515625 8.265625 \r\nQ 44.046875 -1.421875 31.78125 -1.421875 \r\nQ 19.53125 -1.421875 13.0625 8.265625 \r\nQ 6.59375 17.96875 6.59375 36.375 \r\nQ 6.59375 54.828125 13.0625 64.515625 \r\nQ 19.53125 74.21875 31.78125 74.21875 \r\nz\r\n\" id=\"DejaVuSans-48\"/>\r\n       </defs>\r\n       <use xlink:href=\"#DejaVuSans-48\"/>\r\n      </g>\r\n     </g>\r\n    </g>\r\n    <g id=\"xtick_2\">\r\n     <g id=\"line2d_2\">\r\n      <g>\r\n       <use style=\"stroke:#000000;stroke-width:0.8;\" x=\"64.2975\" xlink:href=\"#md1bbae7570\" y=\"225.041719\"/>\r\n      </g>\r\n     </g>\r\n     <g id=\"text_2\">\r\n      <!-- 5 -->\r\n      <g transform=\"translate(61.11625 239.640156)scale(0.1 -0.1)\">\r\n       <defs>\r\n        <path d=\"M 10.796875 72.90625 \r\nL 49.515625 72.90625 \r\nL 49.515625 64.59375 \r\nL 19.828125 64.59375 \r\nL 19.828125 46.734375 \r\nQ 21.96875 47.46875 24.109375 47.828125 \r\nQ 26.265625 48.1875 28.421875 48.1875 \r\nQ 40.625 48.1875 47.75 41.5 \r\nQ 54.890625 34.8125 54.890625 23.390625 \r\nQ 54.890625 11.625 47.5625 5.09375 \r\nQ 40.234375 -1.421875 26.90625 -1.421875 \r\nQ 22.3125 -1.421875 17.546875 -0.640625 \r\nQ 12.796875 0.140625 7.71875 1.703125 \r\nL 7.71875 11.625 \r\nQ 12.109375 9.234375 16.796875 8.0625 \r\nQ 21.484375 6.890625 26.703125 6.890625 \r\nQ 35.15625 6.890625 40.078125 11.328125 \r\nQ 45.015625 15.765625 45.015625 23.390625 \r\nQ 45.015625 31 40.078125 35.4375 \r\nQ 35.15625 39.890625 26.703125 39.890625 \r\nQ 22.75 39.890625 18.8125 39.015625 \r\nQ 14.890625 38.140625 10.796875 36.28125 \r\nz\r\n\" id=\"DejaVuSans-53\"/>\r\n       </defs>\r\n       <use xlink:href=\"#DejaVuSans-53\"/>\r\n      </g>\r\n     </g>\r\n    </g>\r\n    <g id=\"xtick_3\">\r\n     <g id=\"line2d_3\">\r\n      <g>\r\n       <use style=\"stroke:#000000;stroke-width:0.8;\" x=\"98.2725\" xlink:href=\"#md1bbae7570\" y=\"225.041719\"/>\r\n      </g>\r\n     </g>\r\n     <g id=\"text_3\">\r\n      <!-- 10 -->\r\n      <g transform=\"translate(91.91 239.640156)scale(0.1 -0.1)\">\r\n       <defs>\r\n        <path d=\"M 12.40625 8.296875 \r\nL 28.515625 8.296875 \r\nL 28.515625 63.921875 \r\nL 10.984375 60.40625 \r\nL 10.984375 69.390625 \r\nL 28.421875 72.90625 \r\nL 38.28125 72.90625 \r\nL 38.28125 8.296875 \r\nL 54.390625 8.296875 \r\nL 54.390625 0 \r\nL 12.40625 0 \r\nz\r\n\" id=\"DejaVuSans-49\"/>\r\n       </defs>\r\n       <use xlink:href=\"#DejaVuSans-49\"/>\r\n       <use x=\"63.623047\" xlink:href=\"#DejaVuSans-48\"/>\r\n      </g>\r\n     </g>\r\n    </g>\r\n    <g id=\"xtick_4\">\r\n     <g id=\"line2d_4\">\r\n      <g>\r\n       <use style=\"stroke:#000000;stroke-width:0.8;\" x=\"132.2475\" xlink:href=\"#md1bbae7570\" y=\"225.041719\"/>\r\n      </g>\r\n     </g>\r\n     <g id=\"text_4\">\r\n      <!-- 15 -->\r\n      <g transform=\"translate(125.885 239.640156)scale(0.1 -0.1)\">\r\n       <use xlink:href=\"#DejaVuSans-49\"/>\r\n       <use x=\"63.623047\" xlink:href=\"#DejaVuSans-53\"/>\r\n      </g>\r\n     </g>\r\n    </g>\r\n    <g id=\"xtick_5\">\r\n     <g id=\"line2d_5\">\r\n      <g>\r\n       <use style=\"stroke:#000000;stroke-width:0.8;\" x=\"166.2225\" xlink:href=\"#md1bbae7570\" y=\"225.041719\"/>\r\n      </g>\r\n     </g>\r\n     <g id=\"text_5\">\r\n      <!-- 20 -->\r\n      <g transform=\"translate(159.86 239.640156)scale(0.1 -0.1)\">\r\n       <defs>\r\n        <path d=\"M 19.1875 8.296875 \r\nL 53.609375 8.296875 \r\nL 53.609375 0 \r\nL 7.328125 0 \r\nL 7.328125 8.296875 \r\nQ 12.9375 14.109375 22.625 23.890625 \r\nQ 32.328125 33.6875 34.8125 36.53125 \r\nQ 39.546875 41.84375 41.421875 45.53125 \r\nQ 43.3125 49.21875 43.3125 52.78125 \r\nQ 43.3125 58.59375 39.234375 62.25 \r\nQ 35.15625 65.921875 28.609375 65.921875 \r\nQ 23.96875 65.921875 18.8125 64.3125 \r\nQ 13.671875 62.703125 7.8125 59.421875 \r\nL 7.8125 69.390625 \r\nQ 13.765625 71.78125 18.9375 73 \r\nQ 24.125 74.21875 28.421875 74.21875 \r\nQ 39.75 74.21875 46.484375 68.546875 \r\nQ 53.21875 62.890625 53.21875 53.421875 \r\nQ 53.21875 48.921875 51.53125 44.890625 \r\nQ 49.859375 40.875 45.40625 35.40625 \r\nQ 44.1875 33.984375 37.640625 27.21875 \r\nQ 31.109375 20.453125 19.1875 8.296875 \r\nz\r\n\" id=\"DejaVuSans-50\"/>\r\n       </defs>\r\n       <use xlink:href=\"#DejaVuSans-50\"/>\r\n       <use x=\"63.623047\" xlink:href=\"#DejaVuSans-48\"/>\r\n      </g>\r\n     </g>\r\n    </g>\r\n    <g id=\"xtick_6\">\r\n     <g id=\"line2d_6\">\r\n      <g>\r\n       <use style=\"stroke:#000000;stroke-width:0.8;\" x=\"200.1975\" xlink:href=\"#md1bbae7570\" y=\"225.041719\"/>\r\n      </g>\r\n     </g>\r\n     <g id=\"text_6\">\r\n      <!-- 25 -->\r\n      <g transform=\"translate(193.835 239.640156)scale(0.1 -0.1)\">\r\n       <use xlink:href=\"#DejaVuSans-50\"/>\r\n       <use x=\"63.623047\" xlink:href=\"#DejaVuSans-53\"/>\r\n      </g>\r\n     </g>\r\n    </g>\r\n    <g id=\"xtick_7\">\r\n     <g id=\"line2d_7\">\r\n      <g>\r\n       <use style=\"stroke:#000000;stroke-width:0.8;\" x=\"234.1725\" xlink:href=\"#md1bbae7570\" y=\"225.041719\"/>\r\n      </g>\r\n     </g>\r\n     <g id=\"text_7\">\r\n      <!-- 30 -->\r\n      <g transform=\"translate(227.81 239.640156)scale(0.1 -0.1)\">\r\n       <defs>\r\n        <path d=\"M 40.578125 39.3125 \r\nQ 47.65625 37.796875 51.625 33 \r\nQ 55.609375 28.21875 55.609375 21.1875 \r\nQ 55.609375 10.40625 48.1875 4.484375 \r\nQ 40.765625 -1.421875 27.09375 -1.421875 \r\nQ 22.515625 -1.421875 17.65625 -0.515625 \r\nQ 12.796875 0.390625 7.625 2.203125 \r\nL 7.625 11.71875 \r\nQ 11.71875 9.328125 16.59375 8.109375 \r\nQ 21.484375 6.890625 26.8125 6.890625 \r\nQ 36.078125 6.890625 40.9375 10.546875 \r\nQ 45.796875 14.203125 45.796875 21.1875 \r\nQ 45.796875 27.640625 41.28125 31.265625 \r\nQ 36.765625 34.90625 28.71875 34.90625 \r\nL 20.21875 34.90625 \r\nL 20.21875 43.015625 \r\nL 29.109375 43.015625 \r\nQ 36.375 43.015625 40.234375 45.921875 \r\nQ 44.09375 48.828125 44.09375 54.296875 \r\nQ 44.09375 59.90625 40.109375 62.90625 \r\nQ 36.140625 65.921875 28.71875 65.921875 \r\nQ 24.65625 65.921875 20.015625 65.03125 \r\nQ 15.375 64.15625 9.8125 62.3125 \r\nL 9.8125 71.09375 \r\nQ 15.4375 72.65625 20.34375 73.4375 \r\nQ 25.25 74.21875 29.59375 74.21875 \r\nQ 40.828125 74.21875 47.359375 69.109375 \r\nQ 53.90625 64.015625 53.90625 55.328125 \r\nQ 53.90625 49.265625 50.4375 45.09375 \r\nQ 46.96875 40.921875 40.578125 39.3125 \r\nz\r\n\" id=\"DejaVuSans-51\"/>\r\n       </defs>\r\n       <use xlink:href=\"#DejaVuSans-51\"/>\r\n       <use x=\"63.623047\" xlink:href=\"#DejaVuSans-48\"/>\r\n      </g>\r\n     </g>\r\n    </g>\r\n   </g>\r\n   <g id=\"matplotlib.axis_2\">\r\n    <g id=\"ytick_1\">\r\n     <g id=\"line2d_8\">\r\n      <defs>\r\n       <path d=\"M 0 0 \r\nL -3.5 0 \r\n\" id=\"m49da5ea74d\" style=\"stroke:#000000;stroke-width:0.8;\"/>\r\n      </defs>\r\n      <g>\r\n       <use style=\"stroke:#000000;stroke-width:0.8;\" x=\"26.925\" xlink:href=\"#m49da5ea74d\" y=\"10.999219\"/>\r\n      </g>\r\n     </g>\r\n     <g id=\"text_8\">\r\n      <!-- 0 -->\r\n      <g transform=\"translate(13.5625 14.798437)scale(0.1 -0.1)\">\r\n       <use xlink:href=\"#DejaVuSans-48\"/>\r\n      </g>\r\n     </g>\r\n    </g>\r\n    <g id=\"ytick_2\">\r\n     <g id=\"line2d_9\">\r\n      <g>\r\n       <use style=\"stroke:#000000;stroke-width:0.8;\" x=\"26.925\" xlink:href=\"#m49da5ea74d\" y=\"44.974219\"/>\r\n      </g>\r\n     </g>\r\n     <g id=\"text_9\">\r\n      <!-- 5 -->\r\n      <g transform=\"translate(13.5625 48.773437)scale(0.1 -0.1)\">\r\n       <use xlink:href=\"#DejaVuSans-53\"/>\r\n      </g>\r\n     </g>\r\n    </g>\r\n    <g id=\"ytick_3\">\r\n     <g id=\"line2d_10\">\r\n      <g>\r\n       <use style=\"stroke:#000000;stroke-width:0.8;\" x=\"26.925\" xlink:href=\"#m49da5ea74d\" y=\"78.949219\"/>\r\n      </g>\r\n     </g>\r\n     <g id=\"text_10\">\r\n      <!-- 10 -->\r\n      <g transform=\"translate(7.2 82.748437)scale(0.1 -0.1)\">\r\n       <use xlink:href=\"#DejaVuSans-49\"/>\r\n       <use x=\"63.623047\" xlink:href=\"#DejaVuSans-48\"/>\r\n      </g>\r\n     </g>\r\n    </g>\r\n    <g id=\"ytick_4\">\r\n     <g id=\"line2d_11\">\r\n      <g>\r\n       <use style=\"stroke:#000000;stroke-width:0.8;\" x=\"26.925\" xlink:href=\"#m49da5ea74d\" y=\"112.924219\"/>\r\n      </g>\r\n     </g>\r\n     <g id=\"text_11\">\r\n      <!-- 15 -->\r\n      <g transform=\"translate(7.2 116.723437)scale(0.1 -0.1)\">\r\n       <use xlink:href=\"#DejaVuSans-49\"/>\r\n       <use x=\"63.623047\" xlink:href=\"#DejaVuSans-53\"/>\r\n      </g>\r\n     </g>\r\n    </g>\r\n    <g id=\"ytick_5\">\r\n     <g id=\"line2d_12\">\r\n      <g>\r\n       <use style=\"stroke:#000000;stroke-width:0.8;\" x=\"26.925\" xlink:href=\"#m49da5ea74d\" y=\"146.899219\"/>\r\n      </g>\r\n     </g>\r\n     <g id=\"text_12\">\r\n      <!-- 20 -->\r\n      <g transform=\"translate(7.2 150.698437)scale(0.1 -0.1)\">\r\n       <use xlink:href=\"#DejaVuSans-50\"/>\r\n       <use x=\"63.623047\" xlink:href=\"#DejaVuSans-48\"/>\r\n      </g>\r\n     </g>\r\n    </g>\r\n    <g id=\"ytick_6\">\r\n     <g id=\"line2d_13\">\r\n      <g>\r\n       <use style=\"stroke:#000000;stroke-width:0.8;\" x=\"26.925\" xlink:href=\"#m49da5ea74d\" y=\"180.874219\"/>\r\n      </g>\r\n     </g>\r\n     <g id=\"text_13\">\r\n      <!-- 25 -->\r\n      <g transform=\"translate(7.2 184.673437)scale(0.1 -0.1)\">\r\n       <use xlink:href=\"#DejaVuSans-50\"/>\r\n       <use x=\"63.623047\" xlink:href=\"#DejaVuSans-53\"/>\r\n      </g>\r\n     </g>\r\n    </g>\r\n    <g id=\"ytick_7\">\r\n     <g id=\"line2d_14\">\r\n      <g>\r\n       <use style=\"stroke:#000000;stroke-width:0.8;\" x=\"26.925\" xlink:href=\"#m49da5ea74d\" y=\"214.849219\"/>\r\n      </g>\r\n     </g>\r\n     <g id=\"text_14\">\r\n      <!-- 30 -->\r\n      <g transform=\"translate(7.2 218.648437)scale(0.1 -0.1)\">\r\n       <use xlink:href=\"#DejaVuSans-51\"/>\r\n       <use x=\"63.623047\" xlink:href=\"#DejaVuSans-48\"/>\r\n      </g>\r\n     </g>\r\n    </g>\r\n   </g>\r\n   <g id=\"patch_3\">\r\n    <path d=\"M 26.925 225.041719 \r\nL 26.925 7.601719 \r\n\" style=\"fill:none;stroke:#000000;stroke-linecap:square;stroke-linejoin:miter;stroke-width:0.8;\"/>\r\n   </g>\r\n   <g id=\"patch_4\">\r\n    <path d=\"M 244.365 225.041719 \r\nL 244.365 7.601719 \r\n\" style=\"fill:none;stroke:#000000;stroke-linecap:square;stroke-linejoin:miter;stroke-width:0.8;\"/>\r\n   </g>\r\n   <g id=\"patch_5\">\r\n    <path d=\"M 26.925 225.041719 \r\nL 244.365 225.041719 \r\n\" style=\"fill:none;stroke:#000000;stroke-linecap:square;stroke-linejoin:miter;stroke-width:0.8;\"/>\r\n   </g>\r\n   <g id=\"patch_6\">\r\n    <path d=\"M 26.925 7.601719 \r\nL 244.365 7.601719 \r\n\" style=\"fill:none;stroke:#000000;stroke-linecap:square;stroke-linejoin:miter;stroke-width:0.8;\"/>\r\n   </g>\r\n  </g>\r\n </g>\r\n <defs>\r\n  <clipPath id=\"p0a041cfaac\">\r\n   <rect height=\"217.44\" width=\"217.44\" x=\"26.925\" y=\"7.601719\"/>\r\n  </clipPath>\r\n </defs>\r\n</svg>\r\n",
      "image/png": "[encoded data removed]"
     },
     "metadata": {
      "needs_background": "light"
     }
    }
   ],
   "source": [
    "import cv2\n",
    "from matplotlib import pyplot as plt\n",
    "import pandas as pd\n",
    "\n",
    "# 輸入新圖片\n",
    "# img = cv2.imread(\"data/Day015_airplane.png\")\n",
    "# img = cv2.imread(\"data/Day015_car.png\")\n",
    "# img = cv2.imread(\"data/Day015_bird.png\")\n",
    "# img = cv2.imread(\"data/Day015_cat.png\")\n",
    "# img = cv2.imread(\"data/Day015_deer.png\")\n",
    "# img = cv2.imread(\"data/Day015_dog3.png\")\n",
    "# img = cv2.imread(\"data/Day015_frog.png\")\n",
    "# img = cv2.imread(\"data/Day015_horse.png\")\n",
    "# img = cv2.imread(\"data/Day015_ship.png\")\n",
    "img = cv2.imread(\"data/Day015_truck.png\")\n",
    "img = cv2.resize(img, (32,32), interpolation = cv2.INTER_BITS) \n",
    "plt.imshow(img)\n",
    "\n",
    "# 前處理 + 預測\n",
    "input_example=(np.array([img])-mean_train)/(std_train+1e-7) \n",
    "result = classifier.predict(input_example)\n",
    "\n",
    "# 輸出預測結果\n",
    "np.set_printoptions(precision=3, suppress=True)\n",
    "print(result[0] * 100)\n",
    "\n",
    "# pandas輸出預測結果\n",
    "d = {'預測結果': result[0] * 100}\n",
    "idx = [\"airplane\", \"automobile\", \"bird\", \"cat\", \"deer\", \"dog\", \"frog\", \"horse\", \"ship\", \"truck\"]\n",
    "df = pd.DataFrame(data=d, index = idx)\n",
    "pd.options.display.float_format = '{:,.2f}%'.format # output options https://stackoverflow.com/a/20937592\n",
    "df"
   ]
  },
  {
   "source": [
    "## 儲存訓練模型\n",
    "\n",
    "model.save(.../path)"
   ],
   "cell_type": "markdown",
   "metadata": {}
  },
  {
   "cell_type": "code",
   "execution_count": 33,
   "metadata": {},
   "outputs": [
    {
     "output_type": "stream",
     "name": "stdout",
     "text": [
      "INFO:tensorflow:Assets written to: Day015_model_modified\\assets\n"
     ]
    }
   ],
   "source": [
    "# classifier.save(\"Day015_model\")s\n",
    "classifier.save(\"Day015_model_modified\")"
   ]
  },
  {
   "cell_type": "code",
   "execution_count": null,
   "metadata": {},
   "outputs": [],
   "source": []
  }
 ],
 "metadata": {
  "kernelspec": {
   "name": "python3",
   "display_name": "Python 3.8.5 64-bit ('OpenCV_ENV': conda)"
  },
  "language_info": {
   "codemirror_mode": {
    "name": "ipython",
    "version": 3
   },
   "file_extension": ".py",
   "mimetype": "text/x-python",
   "name": "python",
   "nbconvert_exporter": "python",
   "pygments_lexer": "ipython3",
   "version": "3.8.5"
  },
  "interpreter": {
   "hash": "b402e3ed7ffac7d4e523fcb32038881d8ae29ddc86898b5237aaad892edc8b35"
  }
 },
 "nbformat": 4,
 "nbformat_minor": 2
}