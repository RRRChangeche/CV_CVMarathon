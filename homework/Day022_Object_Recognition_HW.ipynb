{
 "cells": [
  {
   "cell_type": "markdown",
   "metadata": {},
   "source": [
    "## 『本次練習內容』\n",
    "#### Object Recognition 知識回顧\n"
   ]
  },
  {
   "cell_type": "markdown",
   "metadata": {},
   "source": [
    "## 題目\n",
    "1. 請列舉出 Two Stage 與 One Stage 的經典演算法各三個，並比較其運算速度與精度 (MAP)。<br>\n",
    "\n",
    "Ans: <br>\n",
    "One stage 常見算法有: DenseBox, YOLO, SSD, RetinaNet <br>\n",
    "Two stage 常見算法有: RCNN, RFCN, FPN, MaskRCNN <br>\n"
   ]
  },
  {
   "cell_type": "markdown",
   "metadata": {},
   "source": []
  }
 ],
 "metadata": {
  "kernelspec": {
   "display_name": "Python 3",
   "language": "python",
   "name": "python3"
  },
  "language_info": {
   "codemirror_mode": {
    "name": "ipython",
    "version": 3
   },
   "file_extension": ".py",
   "mimetype": "text/x-python",
   "name": "python",
   "nbconvert_exporter": "python",
   "pygments_lexer": "ipython3",
   "version": "3.8.5"
  }
 },
 "nbformat": 4,
 "nbformat_minor": 2
}
