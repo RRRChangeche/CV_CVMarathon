{
 "cells": [
  {
   "cell_type": "markdown",
   "metadata": {},
   "source": [
    "## 『本次練習內容』\n",
    "#### Object Recognition 知識回顧\n"
   ]
  },
  {
   "cell_type": "markdown",
   "metadata": {},
   "source": [
    "## 題目\n",
    "1. 了解 Two Stage 為何通常擁有較高的精度。<br>\n",
    "因為在 one stage 中最後一層1*1的loss要負責分類、預測框回歸...等工作都混在一起參數學習難度增加<br>\n",
    "https://blog.csdn.net/Vodka_Lou/article/details/115415365<br>\n",
    "<br>\n",
    "2. 了解 One Stage 的 Default Anchor Box 概念。\n",
    "One stage算法在圖像的每個像素上產生許多個預測框<br>\n",
    "網路輸出為 (x,y,w,h),類別 <br>\n",
    "網路預測了每個anchor box的x,y座標(offset)/ w寬度,h高度(scale)<br>\n",
    "https://towardsdatascience.com/anchor-boxes-the-key-to-quality-object-detection-ddf9d612d4f9<br>\n",
    "<br>\n",
    "3. 了解 SSD 相較於 YoloV1 的優勢。<br>\n",
    "多尺度預測，包含淺層與深層的資訊，對小物件更敏感<br>\n",
    "<br>\n",
    "4. 了解 Focal Loss 設計的核心理念，如何處理易分類樣品與類別不均<br>\n",
    "降低易分類樣本的權重，使其不要影響訓練過程，把訓練重心放在難分類的樣本上\n"
   ]
  },
  {
   "cell_type": "markdown",
   "metadata": {},
   "source": []
  }
 ],
 "metadata": {
  "kernelspec": {
   "display_name": "Python 3",
   "language": "python",
   "name": "python3"
  },
  "language_info": {
   "codemirror_mode": {
    "name": "ipython",
    "version": 3
   },
   "file_extension": ".py",
   "mimetype": "text/x-python",
   "name": "python",
   "nbconvert_exporter": "python",
   "pygments_lexer": "ipython3",
   "version": "3.8.5"
  }
 },
 "nbformat": 4,
 "nbformat_minor": 2
}
