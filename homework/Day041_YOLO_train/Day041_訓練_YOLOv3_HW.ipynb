{
  "cells": [
    {
      "cell_type": "markdown",
      "metadata": {
        "id": "CG77DrrB2CrU"
      },
      "source": [
        "## 作業\n",
        "\n",
        "1. 如何使用已經訓練好的模型？ <br/>\n",
        "  ANS: YOLO(model_path=log_dir + 'trained_weights_final.h5'... 在YOLO物件中指定模型權重路徑\n",
        "2. 依照 https://github.com/qqwweee/keras-yolo3 的程式碼，請敘述，訓練模型時，資料集的格式是什麼？具體一點的說，要提供什麼格式的文件來描述資料集的圖片以及 bboxes 的信息呢？ <br/>\n",
        "  ANS: 使用Pascal VOC format 格式的xml檔,裡面包含類別名稱/xmin/ymin/xmax/ymax\n",
        "\n",
        "\n",
        "\n"
      ]
    },
    {
      "cell_type": "code",
      "execution_count": null,
      "metadata": {
        "id": "NCEP-DG0VxlV"
      },
      "outputs": [],
      "source": [
        "%tensorflow_version 1.x # 確保 colob 中使用的 tensorflow 是 1.x 版本而不是 tensorflow 2\n",
        "import tensorflow as tf\n",
        "print(tf.__version__)"
      ]
    },
    {
      "cell_type": "code",
      "execution_count": null,
      "metadata": {
        "id": "eXT7SQe0KQxv"
      },
      "outputs": [],
      "source": [
        "pip install keras==2.2.4 # 需要安裝 keras 2.2.4 的版本"
      ]
    },
    {
      "cell_type": "code",
      "execution_count": null,
      "metadata": {
        "id": "vELO-PTVxAtm"
      },
      "outputs": [],
      "source": [
        "from google.colab import drive \n",
        "drive.mount('/content/gdrive') # 將 google drive 掛載在 colob，\n",
        "# 下載基於 keras 的 yolov3 程式碼\n",
        "%cd 'gdrive/My Drive'\n",
        "# !git clone https://github.com/qqwweee/keras-yolo3 # 如果之前已經下載過就可以註解掉\n",
        "%cd keras-yolo3"
      ]
    },
    {
      "cell_type": "code",
      "execution_count": null,
      "metadata": {
        "collapsed": true,
        "id": "k0MyCUeRuARA"
      },
      "outputs": [],
      "source": [
        "from PIL import Image\n",
        "image = Image.open('dog.jpg') "
      ]
    },
    {
      "cell_type": "code",
      "execution_count": null,
      "metadata": {
        "collapsed": true,
        "id": "ooyy53TW5c0L"
      },
      "outputs": [],
      "source": [
        ""
      ]
    }
  ],
  "metadata": {
    "accelerator": "GPU",
    "colab": {
      "collapsed_sections": [],
      "name": "Day041_訓練 YOLOv3_HW.ipynb",
      "provenance": []
    },
    "kernelspec": {
      "display_name": "Python 3",
      "language": "python",
      "name": "python3"
    },
    "language_info": {
      "codemirror_mode": {
        "name": "ipython",
        "version": 3
      },
      "file_extension": ".py",
      "mimetype": "text/x-python",
      "name": "python",
      "nbconvert_exporter": "python",
      "pygments_lexer": "ipython3",
      "version": "3.6.1"
    }
  },
  "nbformat": 4,
  "nbformat_minor": 0
}