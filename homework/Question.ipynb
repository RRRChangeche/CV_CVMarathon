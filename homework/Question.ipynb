{
 "metadata": {
  "language_info": {
   "codemirror_mode": {
    "name": "ipython",
    "version": 3
   },
   "file_extension": ".py",
   "mimetype": "text/x-python",
   "name": "python",
   "nbconvert_exporter": "python",
   "pygments_lexer": "ipython3",
   "version": "3.8.5-final"
  },
  "orig_nbformat": 2,
  "kernelspec": {
   "name": "python385jvsc74a57bd0b402e3ed7ffac7d4e523fcb32038881d8ae29ddc86898b5237aaad892edc8b35",
   "display_name": "Python 3.8.5 64-bit ('OpenCV_ENV': conda)"
  }
 },
 "nbformat": 4,
 "nbformat_minor": 2,
 "cells": [
  {
   "source": [
    "## OpenCV LUT\n",
    "from C:\\AL\\Course\\cupoy_電腦視覺與深度學習馬拉松\\OpenCV_CVMarathon\\homework\\Day003_color_spave_op_HW.ipynb\n",
    "\n",
    "??"
   ],
   "cell_type": "markdown",
   "metadata": {}
  }
 ]
}