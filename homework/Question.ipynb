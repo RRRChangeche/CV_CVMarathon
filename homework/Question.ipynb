{
 "metadata": {
  "language_info": {
   "codemirror_mode": {
    "name": "ipython",
    "version": 3
   },
   "file_extension": ".py",
   "mimetype": "text/x-python",
   "name": "python",
   "nbconvert_exporter": "python",
   "pygments_lexer": "ipython3",
   "version": "3.8.5"
  },
  "orig_nbformat": 2,
  "kernelspec": {
   "name": "python385jvsc74a57bd0b402e3ed7ffac7d4e523fcb32038881d8ae29ddc86898b5237aaad892edc8b35",
   "display_name": "Python 3.8.5 64-bit ('OpenCV_ENV': conda)"
  }
 },
 "nbformat": 4,
 "nbformat_minor": 2,
 "cells": [
  {
   "source": [
    "## OpenCV LUT\n",
    "from C:\\AL\\Course\\cupoy_電腦視覺與深度學習馬拉松\\OpenCV_CVMarathon\\homework\\Day003_color_spave_op_HW.ipynb\n",
    "\n",
    "??"
   ],
   "cell_type": "markdown",
   "metadata": {}
  },
  {
   "source": [
    "## Day007 OpenCV Sobel function \n",
    "\n",
    "ref: https://blog.csdn.net/sunny2038/article/details/9170013\n",
    "\n",
    "from Day007 material\n",
    "\n",
    "1. Sobel處理uint8圖像會有負數產生，影像深度參數必須使用CV_16S=3\n",
    "再用convertScaleAbs function轉回int8???\n",
    "\n",
    "2. Sobel運算中的導數運算在哪裡?"
   ],
   "cell_type": "markdown",
   "metadata": {}
  },
  {
   "source": [
    "## Answer: Day007 OpenCV Sobel function\n",
    "\n",
    "1. CV_8S定義\n",
    "\n",
    "* https://blog.csdn.net/charce_you/article/details/99616021\n"
   ],
   "cell_type": "markdown",
   "metadata": {}
  },
  {
   "source": [
    "## Day009 OpenCV SIFT function \n",
    "\n",
    "1. 為何DOG計算量會比DOG少?\n",
    "\n",
    "2. 為何在做SIFT尺度空間圖像金字塔時，需要不斷進行高斯平滑越來越模糊\n",
    "* https://blog.csdn.net/abcjennifer/article/details/7639681\n",
    "\n",
    "3. 回顧一下 SIFT 的演算法是否會考慮到顏色的變化？\n",
    "\n",
    "ANS: 看起來不會, homework\\sample_answer\\Day009_Sample.ipynb\n",
    "\n",
    "\n"
   ],
   "cell_type": "markdown",
   "metadata": {}
  },
  {
   "source": [
    "## Day011 CNN\n",
    "\n",
    "1. 為甚麼在做Convolution on RGB image時，將每層channel的每個像素點值*filter的每個channel的每個element值相加，相加出來的值意義為何？"
   ],
   "cell_type": "markdown",
   "metadata": {}
  },
  {
   "source": [
    "## Answer: Day011 CNN\n",
    "\n",
    "1. 就是做convolution的運算"
   ],
   "cell_type": "markdown",
   "metadata": {}
  },
  {
   "source": [
    "---\n",
    "## Day014 Batch Normalization\n",
    "\n",
    "1. 參數momentum的意義?\n",
    "\n"
   ],
   "cell_type": "markdown",
   "metadata": {}
  },
  {
   "source": [
    "---\n",
    "## Day015 Cifar10 \n",
    "\n",
    "1. 神經網路中的feature map代表的是?\n"
   ],
   "cell_type": "markdown",
   "metadata": {}
  }
 ]
}