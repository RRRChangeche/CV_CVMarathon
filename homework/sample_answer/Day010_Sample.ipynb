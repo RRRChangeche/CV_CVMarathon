{
 "cells": [
  {
   "cell_type": "markdown",
   "metadata": {},
   "source": [
    "# 範例\n",
    "\n",
    "透過 SIFT 特徵實作 Brute-Force Matching"
   ]
  },
  {
   "cell_type": "code",
   "execution_count": 13,
   "metadata": {},
   "outputs": [
    {
     "output_type": "stream",
     "name": "stdout",
     "text": [
      "key points query length:  604\nkey points train length:  969\n[[ 0.  0.  0. ...  0.  0.  0.]\n [ 0.  0.  0. ...  1.  0.  0.]\n [ 0.  0.  0. ...  0.  0.  0.]\n ...\n [ 4.  0.  0. ...  0.  0.  0.]\n [ 0.  0.  0. ...  9.  3. 14.]\n [26.  0.  0. ...  0.  2.  1.]]\n(604, 128)\n"
     ]
    }
   ],
   "source": [
    "import cv2\n",
    "import numpy as np\n",
    "\n",
    "# 以灰階方式讀入圖片\n",
    "img_query = cv2.imread('data/box.png', 0)\n",
    "img_train = cv2.imread('data/box_in_scene.png', 0)\n",
    "\n",
    "# 建立 SIFT 物件\n",
    "sift = cv2.xfeatures2d.SIFT_create()\n",
    "\n",
    "# 偵測並計算 SIFT 特徵 (keypoints 關鍵點, descriptor 128 維敘述子)\n",
    "kp_query, des_query = sift.detectAndCompute(img_query, None)\n",
    "kp_train, des_train = sift.detectAndCompute(img_train, None)\n",
    "print(\"key points query length: \", len(kp_query))\n",
    "print(\"key points train length: \", len(kp_train))\n",
    "print(des_query)\n",
    "print(des_query.shape)"
   ]
  },
  {
   "cell_type": "markdown",
   "metadata": {},
   "source": [
    "## 基於 SIFT 特徵的暴力比對\n",
    "\n",
    "- D.Lowe ratio test\n",
    "- knn 比對"
   ]
  },
  {
   "cell_type": "code",
   "execution_count": 18,
   "metadata": {
    "tags": []
   },
   "outputs": [],
   "source": [
    "# 建立 Brute-Force Matching 物件\n",
    "bf = cv2.BFMatcher(cv2.NORM_L2)\n",
    "\n",
    "# 以 knn 方式暴力比對特徵\n",
    "# https://docs.opencv.org/master/db/d39/classcv_1_1DescriptorMatcher.html#a378f35c9b1a5dfa4022839a45cdf0e89\n",
    "matches = bf.knnMatch(des_query, des_train, k=2)\n",
    "# print(matches)\n",
    "\n",
    "# 透過 D.Lowe ratio test 排除不適合的配對\n",
    "candidate = []\n",
    "for m, n in matches:\n",
    "    if m.distance < 0.75*n.distance:\n",
    "        candidate.append([m])\n",
    "\n",
    "# 顯示配對結果\n",
    "# https://docs.opencv.org/3.4/d4/d5d/group__features2d__draw.html\n",
    "img_show = cv2.drawMatchesKnn(img_query, kp_query, img_train, kp_train, candidate, None, flags=2) # or try to set flags = cv2.DrawMatchesFlags_DRAW_RICH_KEYPOINTS\n",
    "\n",
    "\n",
    "# 顯示圖片\n",
    "while True:\n",
    "    cv2.imshow('matches', img_show)\n",
    "    k = cv2.waitKey(0)\n",
    "    if k == 27:\n",
    "        cv2.destroyAllWindows()\n",
    "        break"
   ]
  },
  {
   "source": [
    "## BFMatcher.match() V.S. BFMatcher.knnMatch()\n",
    "\n",
    "* match()回傳最佳配對\n",
    "* knnMatch() 回傳k個最佳配對\n",
    "\n",
    "Ref: https://docs.opencv.org/3.0-beta/doc/py_tutorials/py_feature2d/py_matcher/py_matcher.html\n"
   ],
   "cell_type": "markdown",
   "metadata": {}
  },
  {
   "source": [
    "## What is Keypoint size in OpenCV?\n",
    "\n",
    "Ans: https://stackoverflow.com/questions/33421022/keypoints-detected-by-sift-in-opencv-its-size-is-radius-or-diameter-of-relevant\n"
   ],
   "cell_type": "markdown",
   "metadata": {}
  }
 ],
 "metadata": {
  "kernelspec": {
   "name": "python385jvsc74a57bd0b402e3ed7ffac7d4e523fcb32038881d8ae29ddc86898b5237aaad892edc8b35",
   "display_name": "Python 3.8.5 64-bit ('OpenCV_ENV': conda)"
  },
  "language_info": {
   "codemirror_mode": {
    "name": "ipython",
    "version": 3
   },
   "file_extension": ".py",
   "mimetype": "text/x-python",
   "name": "python",
   "nbconvert_exporter": "python",
   "pygments_lexer": "ipython3",
   "version": "3.8.5"
  }
 },
 "nbformat": 4,
 "nbformat_minor": 2
}